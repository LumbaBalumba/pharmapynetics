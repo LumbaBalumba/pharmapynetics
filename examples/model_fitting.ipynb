{
 "cells": [
  {
   "cell_type": "code",
   "execution_count": 21,
   "metadata": {},
   "outputs": [],
   "source": [
    "from pharmapynetics.models import PBFTPK, EPBFTPK\n",
    "import numpy as np"
   ]
  },
  {
   "cell_type": "code",
   "execution_count": 22,
   "metadata": {},
   "outputs": [],
   "source": [
    "import matplotlib.pyplot as plt"
   ]
  },
  {
   "cell_type": "code",
   "execution_count": 23,
   "metadata": {},
   "outputs": [],
   "source": [
    "import warnings\n",
    "warnings.filterwarnings('ignore')"
   ]
  },
  {
   "cell_type": "code",
   "execution_count": 24,
   "metadata": {},
   "outputs": [],
   "source": [
    "t = np.array([0.,  0.5,  1.,  1.5,  2.,  3.,  3.33,  3.66,  4.,\n",
    "              4.33,  4.66,  5.,  5.33,  5.66,  6.,  7.,  8., 10.,\n",
    "              12., 16., 24., 48., 72., 96.])\n",
    "X = np.array([0.,   98.3, 1150., 1340., 1480., 1400., 1350., 1440.,\n",
    "              1360., 1340., 1180., 1100., 1080., 1090., 1060., 1030.,\n",
    "              990.,  964., 1030.,  811.,  597.,  302.,  145.,   59.])"
   ]
  },
  {
   "cell_type": "code",
   "execution_count": null,
   "metadata": {},
   "outputs": [
    {
     "ename": "TypeError",
     "evalue": "EPBFTPK.__init__() got an unexpected keyword argument 'scaled'",
     "output_type": "error",
     "traceback": [
      "\u001b[31m---------------------------------------------------------------------------\u001b[39m",
      "\u001b[31mTypeError\u001b[39m                                 Traceback (most recent call last)",
      "\u001b[36mCell\u001b[39m\u001b[36m \u001b[39m\u001b[32mIn[25]\u001b[39m\u001b[32m, line 1\u001b[39m\n\u001b[32m----> \u001b[39m\u001b[32m1\u001b[39m model = \u001b[43mEPBFTPK\u001b[49m\u001b[43m(\u001b[49m\u001b[43mn_models\u001b[49m\u001b[43m=\u001b[49m\u001b[32;43m3\u001b[39;49m\u001b[43m,\u001b[49m\u001b[43m \u001b[49m\u001b[43ml\u001b[49m\u001b[43m=\u001b[49m\u001b[32;43m9.0\u001b[39;49m\u001b[43m,\u001b[49m\u001b[43m \u001b[49m\u001b[43mclipped\u001b[49m\u001b[43m=\u001b[49m\u001b[38;5;28;43;01mTrue\u001b[39;49;00m\u001b[43m,\u001b[49m\u001b[43m \u001b[49m\u001b[43mscaled\u001b[49m\u001b[43m=\u001b[49m\u001b[38;5;28;43;01mTrue\u001b[39;49;00m\u001b[43m)\u001b[49m\n\u001b[32m      2\u001b[39m model.fit(t, X)\n\u001b[32m      3\u001b[39m X_sample = model.sample(t)\n",
      "\u001b[31mTypeError\u001b[39m: EPBFTPK.__init__() got an unexpected keyword argument 'scaled'"
     ]
    }
   ],
   "source": [
    "model = EPBFTPK(n_models=3, l=9.0, clipped=True)\n",
    "model.fit(t, X)\n",
    "X_sample = model.sample(t)\n",
    "plt.plot(t, X)\n",
    "\n",
    "plt.xlabel(\"Time (h)\")\n",
    "plt.ylabel(\"C(t)\")\n",
    "\n",
    "plt.plot(t, X_sample)\n",
    "plt.show()"
   ]
  }
 ],
 "metadata": {
  "kernelspec": {
   "display_name": ".venv",
   "language": "python",
   "name": "python3"
  },
  "language_info": {
   "codemirror_mode": {
    "name": "ipython",
    "version": 3
   },
   "file_extension": ".py",
   "mimetype": "text/x-python",
   "name": "python",
   "nbconvert_exporter": "python",
   "pygments_lexer": "ipython3",
   "version": "3.13.7"
  }
 },
 "nbformat": 4,
 "nbformat_minor": 2
}
